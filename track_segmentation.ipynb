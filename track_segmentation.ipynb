{
  "nbformat": 4,
  "nbformat_minor": 0,
  "metadata": {
    "colab": {
      "provenance": [],
      "gpuType": "T4",
      "authorship_tag": "ABX9TyN6U0pThkPdRZtPscMlBM78"
    },
    "kernelspec": {
      "name": "python3",
      "display_name": "Python 3"
    },
    "language_info": {
      "name": "python"
    }
  },
  "cells": [
    {
      "cell_type": "code",
      "execution_count": null,
      "metadata": {
        "id": "3PQErA5cQrtF",
        "colab": {
          "base_uri": "https://localhost:8080/"
        },
        "outputId": "f4eadad3-a5c5-452d-ec2b-0aa27132c192"
      },
      "outputs": [
        {
          "output_type": "stream",
          "name": "stdout",
          "text": [
            "Mounted at /content/drive/\n"
          ]
        }
      ],
      "source": [
        "from google.colab import drive\n",
        "drive.mount('/content/drive/')"
      ]
    },
    {
      "cell_type": "code",
      "execution_count": null,
      "metadata": {
        "id": "jA2qeC_ufgJj"
      },
      "outputs": [],
      "source": [
        "import tensorflow\n",
        "import os\n",
        "import cv2\n",
        "import numpy as np\n",
        "import librosa\n",
        "import librosa.display\n",
        "import matplotlib.pyplot as plt\n",
        "import shutil\n",
        "import soundfile as sf\n",
        "from tensorflow.keras.models import Sequential, Model\n",
        "from tensorflow.keras.layers import Conv2D, MaxPooling2D, Flatten, Dense, Dropout, BatchNormalization, LeakyReLU, GlobalAveragePooling2D\n",
        "from tensorflow.keras.utils import to_categorical\n",
        "from sklearn.preprocessing import MinMaxScaler\n",
        "from tensorflow.keras.preprocessing.image import load_img, img_to_array, ImageDataGenerator\n",
        "from sklearn.model_selection import train_test_split\n",
        "from sklearn.preprocessing import LabelEncoder\n",
        "from sklearn.metrics import precision_score, recall_score, f1_score, accuracy_score, classification_report\n",
        "from tensorflow.keras.callbacks import EarlyStopping, ModelCheckpoint, LearningRateScheduler\n",
        "from tensorflow.keras.optimizers import Adam\n",
        "from tensorflow.keras.applications import ResNet50\n",
        "from skimage.transform import resize\n",
        "from keras.applications.resnet50 import preprocess_input"
      ]
    },
    {
      "cell_type": "code",
      "source": [
        "dataset_path = '/content/drive/MyDrive/GoogleCollab/Data/GTZAN/genres_original'\n",
        "split_path = '/content/drive/MyDrive/GoogleCollab/Data/GTZAN/genres_split'\n",
        "one_second_path = '/content/drive/MyDrive/GoogleCollab/Data/GTZAN/genres_1s'\n",
        "one_second_spectrogram_path ='/content/drive/MyDrive/GoogleCollab/Data/GTZAN/spectrograms_1s'"
      ],
      "metadata": {
        "id": "1dNW3GWOwGum"
      },
      "execution_count": null,
      "outputs": []
    },
    {
      "cell_type": "code",
      "source": [
        "# Processing thorugh local storage is way faster than GDrive\n",
        "!unzip '/content/drive/MyDrive/GoogleCollab/Data/GTZAN/genres_1s.zip' -d \"/content\""
      ],
      "metadata": {
        "id": "DfG4EvfIRuLt",
        "colab": {
          "base_uri": "https://localhost:8080/"
        },
        "outputId": "e799ae85-1a94-4a3a-c9ae-a004bdf48395"
      },
      "execution_count": 1,
      "outputs": [
        {
          "output_type": "stream",
          "name": "stdout",
          "text": [
            "unzip:  cannot find or open /content/drive/MyDrive/GoogleCollab/Data/GTZAN/genres_1s.zip, /content/drive/MyDrive/GoogleCollab/Data/GTZAN/genres_1s.zip.zip or /content/drive/MyDrive/GoogleCollab/Data/GTZAN/genres_1s.zip.ZIP.\n"
          ]
        }
      ]
    },
    {
      "cell_type": "markdown",
      "source": [
        "# Preprocess data"
      ],
      "metadata": {
        "id": "8jHuZN3ZEq-J"
      }
    },
    {
      "cell_type": "markdown",
      "source": [
        "## Split data into test and train subsets\n",
        "This will allow track segmentation without data interference"
      ],
      "metadata": {
        "id": "Vcm2saYA1aXO"
      }
    },
    {
      "cell_type": "code",
      "source": [
        "if not os.path.exists(split_path):\n",
        "    os.makedirs(split_path)\n",
        "\n",
        "genres = os.listdir(dataset_path)\n",
        "\n",
        "for genre in genres:\n",
        "  genre_path = os.path.join(dataset_path, genre)\n",
        "\n",
        "  genre_output_path = os.path.join(split_path, genre)\n",
        "  os.makedirs(genre_output_path, exist_ok=True)\n",
        "\n",
        "  tracks = [track for track in os.listdir(genre_path) if track.endswith('.wav')]\n",
        "\n",
        "  train_tracks, test_tracks = train_test_split(tracks, test_size=0.2, random_state=42)\n",
        "\n",
        "  train_output_path = os.path.join(genre_output_path, \"train\")\n",
        "  os.makedirs(train_output_path, exist_ok=True)\n",
        "  for track in train_tracks:\n",
        "      shutil.copy(os.path.join(genre_path, track), os.path.join(train_output_path, track))\n",
        "\n",
        "  test_output_path = os.path.join(genre_output_path, \"test\")\n",
        "  os.makedirs(test_output_path, exist_ok=True)\n",
        "  for track in test_tracks:\n",
        "      shutil.copy(os.path.join(genre_path, track), os.path.join(test_output_path, track))\n"
      ],
      "metadata": {
        "id": "iMpCZs6ExYD9"
      },
      "execution_count": null,
      "outputs": []
    },
    {
      "cell_type": "markdown",
      "source": [
        "## Track segmentation"
      ],
      "metadata": {
        "id": "ilIN_EMe-9GE"
      }
    },
    {
      "cell_type": "code",
      "source": [
        "def split_audio(input_path, output_path):\n",
        "  if not os.path.exists(output_path):\n",
        "          os.makedirs(output_path)\n",
        "\n",
        "  for genre_dir in os.listdir(input_path):\n",
        "      genre_dir_path = os.path.join(input_path, genre_dir)\n",
        "      if os.path.isdir(genre_dir_path):\n",
        "          output_genre_dir_path = os.path.join(output_path, genre_dir)\n",
        "          if not os.path.exists(output_genre_dir_path):\n",
        "              os.makedirs(output_genre_dir_path)\n",
        "\n",
        "          # Loop through subdirectories\n",
        "          for split_dir in os.listdir(genre_dir_path):\n",
        "              split_dir_path = os.path.join(genre_dir_path, split_dir)\n",
        "              if os.path.isdir(split_dir_path) and split_dir in ['train', 'test']:\n",
        "                  output_split_dir_path = os.path.join(output_genre_dir_path, split_dir)\n",
        "                  if not os.path.exists(output_split_dir_path):\n",
        "                      os.makedirs(output_split_dir_path)\n",
        "\n",
        "              # Loop through audio files\n",
        "              for file in os.listdir(split_dir_path):\n",
        "                  if file.endswith('.wav'):\n",
        "                      audio_path = os.path.join(split_dir_path, file)\n",
        "                      y, sr = sf.read(audio_path)\n",
        "\n",
        "                      # Calculate number of samples for 1 second\n",
        "                      clip_length = sr\n",
        "\n",
        "                      # Split audio into 1-second clips\n",
        "                      for i in range(len(y) // clip_length):\n",
        "                          clip = y[i*clip_length : (i+1)*clip_length]\n",
        "                          output_filename = os.path.splitext(file)[0] + f'_clip{i}.wav'\n",
        "                          output_file_path = os.path.join(output_split_dir_path, output_filename)\n",
        "                          sf.write(output_file_path, clip, sr)\n",
        "                          print(f\"Saved {output_file_path}\")"
      ],
      "metadata": {
        "id": "q3os8P7I-VpN"
      },
      "execution_count": null,
      "outputs": []
    },
    {
      "cell_type": "code",
      "source": [
        "split_audio(split_path, one_second_path)"
      ],
      "metadata": {
        "id": "IUoEn9oo_yhm"
      },
      "execution_count": null,
      "outputs": []
    },
    {
      "cell_type": "markdown",
      "metadata": {
        "id": "ok6miII2HGGw"
      },
      "source": [
        "## Generate MEL spectrograms"
      ]
    },
    {
      "cell_type": "code",
      "execution_count": null,
      "metadata": {
        "id": "Yv9m4WGujpUd"
      },
      "outputs": [],
      "source": [
        "def generate_spectrogram(file_path, save_path):\n",
        "    HOP_LENGTH = 1024\n",
        "    N_FFT = 4096\n",
        "    N_MELS = 384\n",
        "    y, sr = librosa.load(file_path)\n",
        "\n",
        "    mel_spec = librosa.feature.melspectrogram(y=y, sr=sr, hop_length=HOP_LENGTH, n_mels=N_MELS)\n",
        "    spectrogram = librosa.amplitude_to_db(mel_spec, ref=np.max)\n",
        "\n",
        "    plt.figure(figsize=(6, 4))\n",
        "    librosa.display.specshow(spectrogram, x_axis='time', y_axis='mel', sr=sr, hop_length=HOP_LENGTH)\n",
        "    plt.axis('off')\n",
        "    plt.savefig(save_path)\n",
        "\n",
        "    temp_save_path = \"temp_spectrogram.png\"\n",
        "    plt.savefig(temp_save_path, bbox_inches='tight', pad_inches=0)\n",
        "    plt.close()\n",
        "\n",
        "    img = cv2.imread(temp_save_path, cv2.IMREAD_UNCHANGED)\n",
        "    non_white_pixels = np.any(img[:, :, :3] < 255, axis=-1)\n",
        "    coords = np.argwhere(non_white_pixels)\n",
        "    x0, y0 = coords.min(axis=0)\n",
        "    x1, y1 = coords.max(axis=0) + 1\n",
        "\n",
        "    cropped_img = img[x0:x1, y0:y1]\n",
        "    cv2.imwrite(save_path, cropped_img)\n",
        "\n",
        "    del img, cropped_img, y, sr, spectrogram\n",
        "    os.remove(temp_save_path)"
      ]
    },
    {
      "cell_type": "markdown",
      "source": [
        "## Create spectrogram subdirectories based on audio files directory structure"
      ],
      "metadata": {
        "id": "9Kcg2CwmYBNO"
      }
    },
    {
      "cell_type": "code",
      "execution_count": null,
      "metadata": {
        "id": "yyg4r3Lokirp"
      },
      "outputs": [],
      "source": [
        "def create_directories(audio_path, spectrogram_path):\n",
        "    os.makedirs(spectrogram_path, exist_ok=True)\n",
        "\n",
        "    for genre_dir in os.listdir(audio_path):\n",
        "        genre_dir_path = os.path.join(audio_path, genre_dir)\n",
        "        if os.path.isdir(genre_dir_path):\n",
        "            spectrogram_genre_dir_path = os.path.join(spectrogram_path, genre_dir)\n",
        "            if not os.path.exists(spectrogram_genre_dir_path):\n",
        "                os.makedirs(spectrogram_genre_dir_path)\n",
        "\n",
        "            for split_dir in os.listdir(genre_dir_path):\n",
        "                split_dir_path = os.path.join(genre_dir_path, split_dir)\n",
        "                if os.path.isdir(split_dir_path) and split_dir in ['train', 'test']:\n",
        "                    spectrogram_split_dir_path = os.path.join(spectrogram_genre_dir_path, split_dir)\n",
        "                    if not os.path.exists(spectrogram_split_dir_path):\n",
        "                        os.makedirs(spectrogram_split_dir_path)"
      ]
    },
    {
      "cell_type": "markdown",
      "metadata": {
        "id": "QsQbI4v-HJce"
      },
      "source": [
        "## Save spectrograms as .png"
      ]
    },
    {
      "cell_type": "code",
      "source": [
        "import os\n",
        "from concurrent.futures import ThreadPoolExecutor\n",
        "\n",
        "def save_spectrogram(audio_path, spectrogram_path):\n",
        "    # Use multi-threading to speed-up processing\n",
        "    def process_genre(genre):\n",
        "          genre_dir_path = os.path.join(audio_path, genre)\n",
        "          for split_subset in os.listdir(genre_dir_path):\n",
        "              split_dir_path = os.path.join(genre_dir_path, split_subset)\n",
        "\n",
        "              for filename in os.listdir(split_dir_path):\n",
        "                  file_path = os.path.join(split_dir_path, filename)\n",
        "\n",
        "                  save_dir_fragment = split_dir_path.split('genres_1s', 1)\n",
        "                  stripped_path = save_dir_fragment[1].lstrip('/')  # 'genre/subset'\n",
        "\n",
        "                  save_file_path = os.path.join(spectrogram_path, stripped_path, f\"{filename.replace('.wav', '.png')}\")\n",
        "                  generate_spectrogram(file_path, save_file_path)\n",
        "\n",
        "              print(f\"Current genre: {genre}, current subset: {split_subset}, track count: {len(os.listdir(split_dir_path))}\")\n",
        "\n",
        "    with ThreadPoolExecutor() as executor:\n",
        "        executor.map(process_genre, os.listdir(audio_path))"
      ],
      "metadata": {
        "id": "FRU6xpDN13Fv"
      },
      "execution_count": null,
      "outputs": []
    },
    {
      "cell_type": "code",
      "execution_count": null,
      "metadata": {
        "id": "enx2X3mEuQB3"
      },
      "outputs": [],
      "source": [
        "create_directories('/content/genres_1s', '/content/spectrograms_1s')"
      ]
    },
    {
      "cell_type": "code",
      "source": [
        "save_spectrogram('/content/genres_1s', '/content/spectrograms_1s')"
      ],
      "metadata": {
        "colab": {
          "base_uri": "https://localhost:8080/"
        },
        "id": "qjt6WGWZSZuK",
        "outputId": "39427987-90ea-4382-fdd2-aa60d7e521a4"
      },
      "execution_count": null,
      "outputs": [
        {
          "output_type": "stream",
          "name": "stdout",
          "text": [
            "Current genre: rock, current subset: train, track count: 2399\n",
            "Current genre: rock, current subset: test, track count: 600\n"
          ]
        }
      ]
    },
    {
      "cell_type": "markdown",
      "source": [
        "## Zip and download due to Colab speed restrictions"
      ],
      "metadata": {
        "id": "xgyVORRdYMS9"
      }
    },
    {
      "cell_type": "code",
      "source": [
        "!zip -r /content/spectrograms_1s_rock.zip /content/spectrograms_1s/"
      ],
      "metadata": {
        "id": "emwIrCG0j6n1"
      },
      "execution_count": null,
      "outputs": []
    },
    {
      "cell_type": "code",
      "source": [
        "from google.colab import files\n",
        "files.download(\"/content/spectrograms_1s_rock.zip\")"
      ],
      "metadata": {
        "id": "IoEQZhYf8Saj",
        "outputId": "bcff82f1-1e77-4fdc-8db4-4c7149152365",
        "colab": {
          "base_uri": "https://localhost:8080/",
          "height": 17
        }
      },
      "execution_count": null,
      "outputs": [
        {
          "output_type": "display_data",
          "data": {
            "text/plain": [
              "<IPython.core.display.Javascript object>"
            ],
            "application/javascript": [
              "\n",
              "    async function download(id, filename, size) {\n",
              "      if (!google.colab.kernel.accessAllowed) {\n",
              "        return;\n",
              "      }\n",
              "      const div = document.createElement('div');\n",
              "      const label = document.createElement('label');\n",
              "      label.textContent = `Downloading \"${filename}\": `;\n",
              "      div.appendChild(label);\n",
              "      const progress = document.createElement('progress');\n",
              "      progress.max = size;\n",
              "      div.appendChild(progress);\n",
              "      document.body.appendChild(div);\n",
              "\n",
              "      const buffers = [];\n",
              "      let downloaded = 0;\n",
              "\n",
              "      const channel = await google.colab.kernel.comms.open(id);\n",
              "      // Send a message to notify the kernel that we're ready.\n",
              "      channel.send({})\n",
              "\n",
              "      for await (const message of channel.messages) {\n",
              "        // Send a message to notify the kernel that we're ready.\n",
              "        channel.send({})\n",
              "        if (message.buffers) {\n",
              "          for (const buffer of message.buffers) {\n",
              "            buffers.push(buffer);\n",
              "            downloaded += buffer.byteLength;\n",
              "            progress.value = downloaded;\n",
              "          }\n",
              "        }\n",
              "      }\n",
              "      const blob = new Blob(buffers, {type: 'application/binary'});\n",
              "      const a = document.createElement('a');\n",
              "      a.href = window.URL.createObjectURL(blob);\n",
              "      a.download = filename;\n",
              "      div.appendChild(a);\n",
              "      a.click();\n",
              "      div.remove();\n",
              "    }\n",
              "  "
            ]
          },
          "metadata": {}
        },
        {
          "output_type": "display_data",
          "data": {
            "text/plain": [
              "<IPython.core.display.Javascript object>"
            ],
            "application/javascript": [
              "download(\"download_7e583d50-8175-4e82-858c-9834e7ffe110\", \"spectrograms_1s_rock.zip\", 413554220)"
            ]
          },
          "metadata": {}
        }
      ]
    }
  ]
}