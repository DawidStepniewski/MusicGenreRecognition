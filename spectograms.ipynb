{
  "nbformat": 4,
  "nbformat_minor": 0,
  "metadata": {
    "colab": {
      "provenance": [],
      "authorship_tag": "ABX9TyPphr4WnYZTtIXc/WhxFx1v",
      "include_colab_link": true
    },
    "kernelspec": {
      "name": "python3",
      "display_name": "Python 3"
    },
    "language_info": {
      "name": "python"
    }
  },
  "cells": [
    {
      "cell_type": "markdown",
      "metadata": {
        "id": "view-in-github",
        "colab_type": "text"
      },
      "source": [
        "<a href=\"https://colab.research.google.com/github/DawidStepniewski/MusicGenreRecognition/blob/development/spectograms.ipynb\" target=\"_parent\"><img src=\"https://colab.research.google.com/assets/colab-badge.svg\" alt=\"Open In Colab\"/></a>"
      ]
    },
    {
      "cell_type": "markdown",
      "source": [
        "# Create standard, mel and mfcc spectrograms"
      ],
      "metadata": {
        "id": "ZBs9ggpuDQva"
      }
    },
    {
      "cell_type": "code",
      "execution_count": null,
      "metadata": {
        "colab": {
          "base_uri": "https://localhost:8080/"
        },
        "id": "3PQErA5cQrtF",
        "outputId": "cf30dec2-1534-4f49-d11a-e461cf53dd5b"
      },
      "outputs": [
        {
          "name": "stdout",
          "output_type": "stream",
          "text": [
            "Mounted at /content/drive/\n"
          ]
        }
      ],
      "source": [
        "from google.colab import drive\n",
        "drive.mount('/content/drive/')"
      ]
    },
    {
      "cell_type": "code",
      "source": [
        "import os\n",
        "import cv2\n",
        "import numpy as np\n",
        "import librosa\n",
        "import librosa.display"
      ],
      "metadata": {
        "id": "7kDEsybGDHnl"
      },
      "execution_count": null,
      "outputs": []
    },
    {
      "cell_type": "markdown",
      "metadata": {
        "id": "IWJAYh2CRpvc"
      },
      "source": [
        "## Create spectrograms and save them as image files"
      ]
    },
    {
      "cell_type": "code",
      "execution_count": null,
      "metadata": {
        "id": "KVZD27dCkJU-"
      },
      "outputs": [],
      "source": [
        "dataset_path = '/content/drive/MyDrive/GoogleCollab/Data/GTZAN/genres_original'\n",
        "standard_spectrograms_path = '/content/drive/MyDrive/GoogleCollab/Data/GTZAN/spectrograms/standard_spectrograms'\n",
        "mel_spectrograms_path = '/content/drive/MyDrive/GoogleCollab/Data/GTZAN/spectrograms/mel_spectrograms'\n",
        "mfcc_spectrograms_path = '/content/drive/MyDrive/GoogleCollab/Data/GTZAN/spectrograms/mfcc_spectrograms'"
      ]
    },
    {
      "cell_type": "markdown",
      "metadata": {
        "id": "dEAp6PFgSiGt"
      },
      "source": [
        "## Create sub-directories for spectrograms"
      ]
    },
    {
      "cell_type": "code",
      "execution_count": null,
      "metadata": {
        "id": "8Ei1vMdXmuqk"
      },
      "outputs": [],
      "source": [
        "for path in [standard_spectograms_path, mel_spectograms_path, mfcc_spectograms_path]:\n",
        "  os.makedirs(path, exist_ok=True)\n",
        "\n",
        "  for genre in os.listdir(dataset_path):\n",
        "      genre_path = os.path.join(path, genre)\n",
        "      os.makedirs(genre_path, exist_ok=True)"
      ]
    },
    {
      "cell_type": "markdown",
      "metadata": {
        "id": "ok6miII2HGGw"
      },
      "source": [
        "## Generate spectrograms"
      ]
    },
    {
      "cell_type": "code",
      "execution_count": null,
      "metadata": {
        "id": "Yv9m4WGujpUd"
      },
      "outputs": [],
      "source": [
        "def generate_spectrogram(file_path, save_path, spectrogram_type):\n",
        "    HOP_LENGTH = 256\n",
        "    N_FFT = 1024\n",
        "    N_MELS = 128\n",
        "    y, sr = librosa.load(file_path)\n",
        "\n",
        "    if spectrogram_type == 'standard':\n",
        "      spectrogram = librosa.amplitude_to_db(librosa.stft(y), ref=np.max)\n",
        "    elif spectrogram_type == 'mel':\n",
        "      mel_spec = librosa.feature.melspectrogram(y=y, sr=sr, hop_length=HOP_LENGTH, n_mels=N_MELS)\n",
        "      spectrogram = librosa.amplitude_to_db(mel_spec, ref=np.max)\n",
        "    elif spectrogram_type == 'mfcc':\n",
        "        spectrogram = librosa.feature.mfcc(y=y, sr=sr)\n",
        "\n",
        "    plt.figure(figsize=(6, 4))\n",
        "    librosa.display.specshow(spectrogram, x_axis='time', y_axis='mel', sr=sr, hop_length=HOP_LENGTH)\n",
        "    plt.axis('off')\n",
        "    plt.savefig(save_path)\n",
        "\n",
        "    temp_save_path = \"temp_spectrogram.png\"\n",
        "    plt.savefig(temp_save_path, bbox_inches='tight', pad_inches=0)\n",
        "    plt.close()\n",
        "\n",
        "    img = cv2.imread(temp_save_path, cv2.IMREAD_UNCHANGED)\n",
        "    non_white_pixels = np.any(img[:, :, :3] < 255, axis=-1)\n",
        "    coords = np.argwhere(non_white_pixels)\n",
        "    x0, y0 = coords.min(axis=0)\n",
        "    x1, y1 = coords.max(axis=0) + 1\n",
        "\n",
        "    cropped_img = img[x0:x1, y0:y1]\n",
        "    cv2.imwrite(save_path, cropped_img)\n",
        "\n",
        "    del img, cropped_img, y, sr, spectrogram\n",
        "    os.remove(temp_save_path)"
      ]
    },
    {
      "cell_type": "markdown",
      "metadata": {
        "id": "QsQbI4v-HJce"
      },
      "source": [
        "## Save spectrograms as .png"
      ]
    },
    {
      "cell_type": "code",
      "execution_count": null,
      "metadata": {
        "id": "yyg4r3Lokirp"
      },
      "outputs": [],
      "source": [
        "def save_spectrogram(path):\n",
        "  spectrogram_type = os.path.basename(os.path.normpath(path)).split('_')[0]\n",
        "  print(f\"Current spectogram type: {spectrogram_type}\")\n",
        "  for genre_label, genre in enumerate(os.listdir(path)):\n",
        "    print(f\"Current genre: {genre}\")\n",
        "    genre_path = os.path.join(dataset_path, genre)\n",
        "    for filename in os.listdir(genre_path):\n",
        "      if filename != 'jazz.00054.wav':\n",
        "        file_path = os.path.join(genre_path, filename)\n",
        "        save_file_path = os.path.join(path, genre, f\"{filename.replace('.wav', '.png')}\")\n",
        "        generate_spectrogram(file_path, save_file_path, spectrogram_type)\n",
        "        del file_path, save_file_path"
      ]
    },
    {
      "cell_type": "code",
      "execution_count": null,
      "metadata": {
        "id": "enx2X3mEuQB3"
      },
      "outputs": [],
      "source": [
        "for path in [standard_spectograms_path, mel_spectograms_path, mfcc_spectograms_path]:\n",
        "  save_spectrogram(path)"
      ]
    }
  ]
}